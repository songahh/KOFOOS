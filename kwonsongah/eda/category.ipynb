{
 "cells": [
  {
   "cell_type": "code",
   "execution_count": 44,
   "metadata": {},
   "outputs": [],
   "source": [
    "import pandas as pd\n",
    "import numpy as np\n",
    "from pathlib import Path\n",
    "import csv\n",
    "\n",
    "DATA_PATH = Path('./data')\n",
    "CATEGORY_MAPPING = 'category_mapping_utf8.csv'\n",
    "CATEGORY_NEW = \"category_new_utf8.csv\"\n",
    "pd.set_option('display.max_colwidth', None)"
   ]
  },
  {
   "cell_type": "code",
   "execution_count": 49,
   "metadata": {},
   "outputs": [],
   "source": [
    "category_mapping_path = DATA_PATH / CATEGORY_MAPPING\n",
    "category_new_path = DATA_PATH / CATEGORY_NEW "
   ]
  },
  {
   "cell_type": "markdown",
   "metadata": {},
   "source": [
    "# 01 CATEGORY\n",
    "### Todo List\n",
    "1. 원래 카테고리 -> 새 카테고리가 가능하도록 매핑자료 만들기\n",
    "    - 코드 기준"
   ]
  },
  {
   "cell_type": "code",
   "execution_count": 46,
   "metadata": {},
   "outputs": [
    {
     "name": "stdout",
     "output_type": "stream",
     "text": [
      "shape(132, 4)\n"
     ]
    },
    {
     "data": {
      "text/html": [
       "<div>\n",
       "<style scoped>\n",
       "    .dataframe tbody tr th:only-of-type {\n",
       "        vertical-align: middle;\n",
       "    }\n",
       "\n",
       "    .dataframe tbody tr th {\n",
       "        vertical-align: top;\n",
       "    }\n",
       "\n",
       "    .dataframe thead th {\n",
       "        text-align: right;\n",
       "    }\n",
       "</style>\n",
       "<table border=\"1\" class=\"dataframe\">\n",
       "  <thead>\n",
       "    <tr style=\"text-align: right;\">\n",
       "      <th></th>\n",
       "      <th>Unnamed: 0</th>\n",
       "      <th>CAT_1</th>\n",
       "      <th>CAT_2</th>\n",
       "      <th>CAT_3</th>\n",
       "    </tr>\n",
       "  </thead>\n",
       "  <tbody>\n",
       "    <tr>\n",
       "      <th>0</th>\n",
       "      <td>0</td>\n",
       "      <td>건강식품</td>\n",
       "      <td>건강기능식품</td>\n",
       "      <td>NaN</td>\n",
       "    </tr>\n",
       "    <tr>\n",
       "      <th>1</th>\n",
       "      <td>1</td>\n",
       "      <td>건강식품</td>\n",
       "      <td>꿀</td>\n",
       "      <td>NaN</td>\n",
       "    </tr>\n",
       "    <tr>\n",
       "      <th>2</th>\n",
       "      <td>2</td>\n",
       "      <td>건강식품</td>\n",
       "      <td>선식</td>\n",
       "      <td>NaN</td>\n",
       "    </tr>\n",
       "  </tbody>\n",
       "</table>\n",
       "</div>"
      ],
      "text/plain": [
       "   Unnamed: 0 CAT_1   CAT_2 CAT_3\n",
       "0           0  건강식품  건강기능식품   NaN\n",
       "1           1  건강식품       꿀   NaN\n",
       "2           2  건강식품      선식   NaN"
      ]
     },
     "execution_count": 46,
     "metadata": {},
     "output_type": "execute_result"
    }
   ],
   "source": [
    "category_new_df = pd.read_csv(category_new_path, encoding=\"utf-8\")\n",
    "print(f'shape{category_new_df.shape}')\n",
    "category_new_df.head(3)"
   ]
  },
  {
   "cell_type": "code",
   "execution_count": 47,
   "metadata": {},
   "outputs": [],
   "source": [
    "category_new_df = category_new_df.drop(columns=[\"Unnamed: 0\"], axis=1)"
   ]
  },
  {
   "cell_type": "markdown",
   "metadata": {},
   "source": [
    "### 1. 원래 카테고리 -> 새 카테고리\n",
    "- 코드 기준"
   ]
  },
  {
   "cell_type": "code",
   "execution_count": 50,
   "metadata": {},
   "outputs": [
    {
     "name": "stdout",
     "output_type": "stream",
     "text": [
      "shape(322, 5)\n"
     ]
    },
    {
     "data": {
      "text/html": [
       "<div>\n",
       "<style scoped>\n",
       "    .dataframe tbody tr th:only-of-type {\n",
       "        vertical-align: middle;\n",
       "    }\n",
       "\n",
       "    .dataframe tbody tr th {\n",
       "        vertical-align: top;\n",
       "    }\n",
       "\n",
       "    .dataframe thead th {\n",
       "        text-align: right;\n",
       "    }\n",
       "</style>\n",
       "<table border=\"1\" class=\"dataframe\">\n",
       "  <thead>\n",
       "    <tr style=\"text-align: right;\">\n",
       "      <th></th>\n",
       "      <th>KAN_CODE</th>\n",
       "      <th>CLS_NM_2</th>\n",
       "      <th>CLS_NM_3</th>\n",
       "      <th>CLS_NM_4</th>\n",
       "      <th>NEW_CODE</th>\n",
       "    </tr>\n",
       "  </thead>\n",
       "  <tbody>\n",
       "    <tr>\n",
       "      <th>0</th>\n",
       "      <td>1150501</td>\n",
       "      <td>건강식품</td>\n",
       "      <td>간식/건강식품</td>\n",
       "      <td>어린이건강식품</td>\n",
       "      <td>0</td>\n",
       "    </tr>\n",
       "    <tr>\n",
       "      <th>1</th>\n",
       "      <td>1150301</td>\n",
       "      <td>건강식품</td>\n",
       "      <td>건강기능식품</td>\n",
       "      <td>건강기능식품</td>\n",
       "      <td>0</td>\n",
       "    </tr>\n",
       "    <tr>\n",
       "      <th>2</th>\n",
       "      <td>1150299</td>\n",
       "      <td>건강식품</td>\n",
       "      <td>건강보조식품</td>\n",
       "      <td>기타건강보조식품</td>\n",
       "      <td>0</td>\n",
       "    </tr>\n",
       "    <tr>\n",
       "      <th>3</th>\n",
       "      <td>1150201</td>\n",
       "      <td>건강식품</td>\n",
       "      <td>건강보조식품</td>\n",
       "      <td>홍삼/인삼제품</td>\n",
       "      <td>3</td>\n",
       "    </tr>\n",
       "    <tr>\n",
       "      <th>4</th>\n",
       "      <td>1159999</td>\n",
       "      <td>건강식품</td>\n",
       "      <td>기타건강식품</td>\n",
       "      <td>기타건강식품</td>\n",
       "      <td>0</td>\n",
       "    </tr>\n",
       "  </tbody>\n",
       "</table>\n",
       "</div>"
      ],
      "text/plain": [
       "   KAN_CODE CLS_NM_2 CLS_NM_3  CLS_NM_4  NEW_CODE\n",
       "0   1150501     건강식품  간식/건강식품   어린이건강식품         0\n",
       "1   1150301     건강식품   건강기능식품    건강기능식품         0\n",
       "2   1150299     건강식품   건강보조식품  기타건강보조식품         0\n",
       "3   1150201     건강식품   건강보조식품   홍삼/인삼제품         3\n",
       "4   1159999     건강식품   기타건강식품    기타건강식품         0"
      ]
     },
     "execution_count": 50,
     "metadata": {},
     "output_type": "execute_result"
    }
   ],
   "source": [
    "category_mapping_df = pd.read_csv(category_mapping_path, encoding=\"utf-8\")\n",
    "print(f'shape{category_mapping_df.shape}')\n",
    "category_mapping_df.head(5)"
   ]
  },
  {
   "cell_type": "code",
   "execution_count": null,
   "metadata": {},
   "outputs": [],
   "source": []
  }
 ],
 "metadata": {
  "kernelspec": {
   "display_name": "Python 3",
   "language": "python",
   "name": "python3"
  },
  "language_info": {
   "codemirror_mode": {
    "name": "ipython",
    "version": 3
   },
   "file_extension": ".py",
   "mimetype": "text/x-python",
   "name": "python",
   "nbconvert_exporter": "python",
   "pygments_lexer": "ipython3",
   "version": "3.12.1"
  }
 },
 "nbformat": 4,
 "nbformat_minor": 2
}
